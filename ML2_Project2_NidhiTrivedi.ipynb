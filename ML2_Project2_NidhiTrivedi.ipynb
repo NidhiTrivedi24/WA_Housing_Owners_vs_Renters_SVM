{
 "cells": [
  {
   "cell_type": "code",
   "execution_count": 1,
   "id": "05b6c1e0",
   "metadata": {},
   "outputs": [],
   "source": [
    "import numpy as np\n",
    "import pandas as pd\n",
    "from matplotlib.pyplot import subplots, cm\n",
    "import sklearn.model_selection as skm\n",
    "from ISLP import load_data, confusion_table\n",
    "from sklearn.svm import SVC\n",
    "from ISLP.svm import plot as plot_svm\n",
    "from sklearn.model_selection import train_test_split\n",
    "from sklearn.metrics import confusion_matrix, accuracy_score\n",
    "import matplotlib.pyplot as plt"
   ]
  },
  {
   "cell_type": "code",
   "execution_count": 2,
   "id": "01a61a4f",
   "metadata": {},
   "outputs": [],
   "source": [
    "dwelling_detail = pd.read_csv('/Users/nidhitrivedi/Downloads/Housing.csv')"
   ]
  },
  {
   "cell_type": "code",
   "execution_count": 3,
   "id": "7d1edabe",
   "metadata": {},
   "outputs": [
    {
     "data": {
      "text/html": [
       "<div>\n",
       "<style scoped>\n",
       "    .dataframe tbody tr th:only-of-type {\n",
       "        vertical-align: middle;\n",
       "    }\n",
       "\n",
       "    .dataframe tbody tr th {\n",
       "        vertical-align: top;\n",
       "    }\n",
       "\n",
       "    .dataframe thead th {\n",
       "        text-align: right;\n",
       "    }\n",
       "</style>\n",
       "<table border=\"1\" class=\"dataframe\">\n",
       "  <thead>\n",
       "    <tr style=\"text-align: right;\">\n",
       "      <th></th>\n",
       "      <th>SERIAL</th>\n",
       "      <th>DENSITY</th>\n",
       "      <th>OWNERSHP</th>\n",
       "      <th>OWNERSHPD</th>\n",
       "      <th>COSTELEC</th>\n",
       "      <th>COSTGAS</th>\n",
       "      <th>COSTWATR</th>\n",
       "      <th>COSTFUEL</th>\n",
       "      <th>HHINCOME</th>\n",
       "      <th>VALUEH</th>\n",
       "      <th>...</th>\n",
       "      <th>NFAMS</th>\n",
       "      <th>NCOUPLES</th>\n",
       "      <th>PERNUM</th>\n",
       "      <th>PERWT</th>\n",
       "      <th>AGE</th>\n",
       "      <th>MARST</th>\n",
       "      <th>BIRTHYR</th>\n",
       "      <th>EDUC</th>\n",
       "      <th>EDUCD</th>\n",
       "      <th>INCTOT</th>\n",
       "    </tr>\n",
       "  </thead>\n",
       "  <tbody>\n",
       "    <tr>\n",
       "      <th>0</th>\n",
       "      <td>1371772</td>\n",
       "      <td>920.0</td>\n",
       "      <td>1</td>\n",
       "      <td>13</td>\n",
       "      <td>9990</td>\n",
       "      <td>9993</td>\n",
       "      <td>360</td>\n",
       "      <td>9993</td>\n",
       "      <td>75000</td>\n",
       "      <td>700000</td>\n",
       "      <td>...</td>\n",
       "      <td>1</td>\n",
       "      <td>0</td>\n",
       "      <td>1</td>\n",
       "      <td>14</td>\n",
       "      <td>52</td>\n",
       "      <td>6</td>\n",
       "      <td>1969</td>\n",
       "      <td>7</td>\n",
       "      <td>71</td>\n",
       "      <td>75000</td>\n",
       "    </tr>\n",
       "    <tr>\n",
       "      <th>1</th>\n",
       "      <td>1371773</td>\n",
       "      <td>3640.9</td>\n",
       "      <td>2</td>\n",
       "      <td>22</td>\n",
       "      <td>1080</td>\n",
       "      <td>9993</td>\n",
       "      <td>1800</td>\n",
       "      <td>9993</td>\n",
       "      <td>13600</td>\n",
       "      <td>9999999</td>\n",
       "      <td>...</td>\n",
       "      <td>2</td>\n",
       "      <td>0</td>\n",
       "      <td>1</td>\n",
       "      <td>83</td>\n",
       "      <td>22</td>\n",
       "      <td>6</td>\n",
       "      <td>1999</td>\n",
       "      <td>10</td>\n",
       "      <td>101</td>\n",
       "      <td>5600</td>\n",
       "    </tr>\n",
       "    <tr>\n",
       "      <th>2</th>\n",
       "      <td>1371773</td>\n",
       "      <td>3640.9</td>\n",
       "      <td>2</td>\n",
       "      <td>22</td>\n",
       "      <td>1080</td>\n",
       "      <td>9993</td>\n",
       "      <td>1800</td>\n",
       "      <td>9993</td>\n",
       "      <td>13600</td>\n",
       "      <td>9999999</td>\n",
       "      <td>...</td>\n",
       "      <td>2</td>\n",
       "      <td>0</td>\n",
       "      <td>2</td>\n",
       "      <td>106</td>\n",
       "      <td>22</td>\n",
       "      <td>6</td>\n",
       "      <td>1999</td>\n",
       "      <td>7</td>\n",
       "      <td>71</td>\n",
       "      <td>8000</td>\n",
       "    </tr>\n",
       "    <tr>\n",
       "      <th>3</th>\n",
       "      <td>1371774</td>\n",
       "      <td>22.5</td>\n",
       "      <td>1</td>\n",
       "      <td>13</td>\n",
       "      <td>600</td>\n",
       "      <td>9993</td>\n",
       "      <td>9993</td>\n",
       "      <td>9993</td>\n",
       "      <td>7000</td>\n",
       "      <td>800000</td>\n",
       "      <td>...</td>\n",
       "      <td>1</td>\n",
       "      <td>0</td>\n",
       "      <td>1</td>\n",
       "      <td>33</td>\n",
       "      <td>62</td>\n",
       "      <td>4</td>\n",
       "      <td>1959</td>\n",
       "      <td>6</td>\n",
       "      <td>63</td>\n",
       "      <td>7000</td>\n",
       "    </tr>\n",
       "    <tr>\n",
       "      <th>4</th>\n",
       "      <td>1371775</td>\n",
       "      <td>3710.4</td>\n",
       "      <td>2</td>\n",
       "      <td>22</td>\n",
       "      <td>3600</td>\n",
       "      <td>9993</td>\n",
       "      <td>9997</td>\n",
       "      <td>9993</td>\n",
       "      <td>50500</td>\n",
       "      <td>9999999</td>\n",
       "      <td>...</td>\n",
       "      <td>1</td>\n",
       "      <td>0</td>\n",
       "      <td>1</td>\n",
       "      <td>297</td>\n",
       "      <td>50</td>\n",
       "      <td>3</td>\n",
       "      <td>1971</td>\n",
       "      <td>7</td>\n",
       "      <td>71</td>\n",
       "      <td>16000</td>\n",
       "    </tr>\n",
       "  </tbody>\n",
       "</table>\n",
       "<p>5 rows × 24 columns</p>\n",
       "</div>"
      ],
      "text/plain": [
       "    SERIAL  DENSITY  OWNERSHP  OWNERSHPD  COSTELEC  COSTGAS  COSTWATR  \\\n",
       "0  1371772    920.0         1         13      9990     9993       360   \n",
       "1  1371773   3640.9         2         22      1080     9993      1800   \n",
       "2  1371773   3640.9         2         22      1080     9993      1800   \n",
       "3  1371774     22.5         1         13       600     9993      9993   \n",
       "4  1371775   3710.4         2         22      3600     9993      9997   \n",
       "\n",
       "   COSTFUEL  HHINCOME   VALUEH  ...  NFAMS  NCOUPLES  PERNUM  PERWT  AGE  \\\n",
       "0      9993     75000   700000  ...      1         0       1     14   52   \n",
       "1      9993     13600  9999999  ...      2         0       1     83   22   \n",
       "2      9993     13600  9999999  ...      2         0       2    106   22   \n",
       "3      9993      7000   800000  ...      1         0       1     33   62   \n",
       "4      9993     50500  9999999  ...      1         0       1    297   50   \n",
       "\n",
       "   MARST  BIRTHYR  EDUC  EDUCD  INCTOT  \n",
       "0      6     1969     7     71   75000  \n",
       "1      6     1999    10    101    5600  \n",
       "2      6     1999     7     71    8000  \n",
       "3      4     1959     6     63    7000  \n",
       "4      3     1971     7     71   16000  \n",
       "\n",
       "[5 rows x 24 columns]"
      ]
     },
     "execution_count": 3,
     "metadata": {},
     "output_type": "execute_result"
    }
   ],
   "source": [
    "dwelling_detail.head(5)"
   ]
  },
  {
   "cell_type": "code",
   "execution_count": 4,
   "id": "8a70ea5f",
   "metadata": {},
   "outputs": [
    {
     "data": {
      "text/plain": [
       "Index(['SERIAL', 'DENSITY', 'OWNERSHP', 'OWNERSHPD', 'COSTELEC', 'COSTGAS',\n",
       "       'COSTWATR', 'COSTFUEL', 'HHINCOME', 'VALUEH', 'ROOMS', 'BUILTYR2',\n",
       "       'BEDROOMS', 'VEHICLES', 'NFAMS', 'NCOUPLES', 'PERNUM', 'PERWT', 'AGE',\n",
       "       'MARST', 'BIRTHYR', 'EDUC', 'EDUCD', 'INCTOT'],\n",
       "      dtype='object')"
      ]
     },
     "execution_count": 4,
     "metadata": {},
     "output_type": "execute_result"
    }
   ],
   "source": [
    "dwelling_detail.columns"
   ]
  },
  {
   "cell_type": "code",
   "execution_count": 5,
   "id": "286b7735",
   "metadata": {},
   "outputs": [
    {
     "data": {
      "text/plain": [
       "(75388, 24)"
      ]
     },
     "execution_count": 5,
     "metadata": {},
     "output_type": "execute_result"
    }
   ],
   "source": [
    "dwelling_detail.shape"
   ]
  },
  {
   "cell_type": "code",
   "execution_count": 6,
   "id": "4c6a2ade",
   "metadata": {},
   "outputs": [
    {
     "name": "stdout",
     "output_type": "stream",
     "text": [
      "Number of unique values:\n",
      "SERIAL       30802\n",
      "DENSITY         56\n",
      "OWNERSHP         2\n",
      "OWNERSHPD        4\n",
      "COSTELEC        59\n",
      "COSTGAS         40\n",
      "COSTWATR       133\n",
      "COSTFUEL       109\n",
      "HHINCOME      5717\n",
      "VALUEH         796\n",
      "ROOMS           15\n",
      "BUILTYR2        11\n",
      "BEDROOMS         7\n",
      "VEHICLES         7\n",
      "NFAMS           10\n",
      "NCOUPLES         4\n",
      "PERNUM          16\n",
      "PERWT          626\n",
      "AGE             91\n",
      "MARST            6\n",
      "BIRTHYR         91\n",
      "EDUC            11\n",
      "EDUCD           25\n",
      "INCTOT        4300\n",
      "dtype: int64\n"
     ]
    }
   ],
   "source": [
    "unique_value_counts = dwelling_detail.nunique()\n",
    "\n",
    "print(\"Number of unique values:\")\n",
    "print(unique_value_counts)"
   ]
  },
  {
   "cell_type": "code",
   "execution_count": 7,
   "id": "63f5857b",
   "metadata": {},
   "outputs": [],
   "source": [
    "dwelling_detail = dwelling_detail.loc[dwelling_detail.groupby('SERIAL')['AGE'].idxmax()]\n"
   ]
  },
  {
   "cell_type": "code",
   "execution_count": 8,
   "id": "ab06fde0",
   "metadata": {},
   "outputs": [
    {
     "data": {
      "text/plain": [
       "(30802, 24)"
      ]
     },
     "execution_count": 8,
     "metadata": {},
     "output_type": "execute_result"
    }
   ],
   "source": [
    "dwelling_detail.shape\n"
   ]
  },
  {
   "cell_type": "code",
   "execution_count": 9,
   "id": "e934750d",
   "metadata": {},
   "outputs": [
    {
     "data": {
      "text/html": [
       "<div>\n",
       "<style scoped>\n",
       "    .dataframe tbody tr th:only-of-type {\n",
       "        vertical-align: middle;\n",
       "    }\n",
       "\n",
       "    .dataframe tbody tr th {\n",
       "        vertical-align: top;\n",
       "    }\n",
       "\n",
       "    .dataframe thead th {\n",
       "        text-align: right;\n",
       "    }\n",
       "</style>\n",
       "<table border=\"1\" class=\"dataframe\">\n",
       "  <thead>\n",
       "    <tr style=\"text-align: right;\">\n",
       "      <th></th>\n",
       "      <th>SERIAL</th>\n",
       "      <th>DENSITY</th>\n",
       "      <th>OWNERSHP</th>\n",
       "      <th>OWNERSHPD</th>\n",
       "      <th>COSTELEC</th>\n",
       "      <th>COSTGAS</th>\n",
       "      <th>COSTWATR</th>\n",
       "      <th>COSTFUEL</th>\n",
       "      <th>HHINCOME</th>\n",
       "      <th>VALUEH</th>\n",
       "      <th>...</th>\n",
       "      <th>NFAMS</th>\n",
       "      <th>NCOUPLES</th>\n",
       "      <th>PERNUM</th>\n",
       "      <th>PERWT</th>\n",
       "      <th>AGE</th>\n",
       "      <th>MARST</th>\n",
       "      <th>BIRTHYR</th>\n",
       "      <th>EDUC</th>\n",
       "      <th>EDUCD</th>\n",
       "      <th>INCTOT</th>\n",
       "    </tr>\n",
       "  </thead>\n",
       "  <tbody>\n",
       "    <tr>\n",
       "      <th>0</th>\n",
       "      <td>1371772</td>\n",
       "      <td>920.0</td>\n",
       "      <td>1</td>\n",
       "      <td>13</td>\n",
       "      <td>9990</td>\n",
       "      <td>9993</td>\n",
       "      <td>360</td>\n",
       "      <td>9993</td>\n",
       "      <td>75000</td>\n",
       "      <td>700000</td>\n",
       "      <td>...</td>\n",
       "      <td>1</td>\n",
       "      <td>0</td>\n",
       "      <td>1</td>\n",
       "      <td>14</td>\n",
       "      <td>52</td>\n",
       "      <td>6</td>\n",
       "      <td>1969</td>\n",
       "      <td>7</td>\n",
       "      <td>71</td>\n",
       "      <td>75000</td>\n",
       "    </tr>\n",
       "    <tr>\n",
       "      <th>1</th>\n",
       "      <td>1371773</td>\n",
       "      <td>3640.9</td>\n",
       "      <td>2</td>\n",
       "      <td>22</td>\n",
       "      <td>1080</td>\n",
       "      <td>9993</td>\n",
       "      <td>1800</td>\n",
       "      <td>9993</td>\n",
       "      <td>13600</td>\n",
       "      <td>9999999</td>\n",
       "      <td>...</td>\n",
       "      <td>2</td>\n",
       "      <td>0</td>\n",
       "      <td>1</td>\n",
       "      <td>83</td>\n",
       "      <td>22</td>\n",
       "      <td>6</td>\n",
       "      <td>1999</td>\n",
       "      <td>10</td>\n",
       "      <td>101</td>\n",
       "      <td>5600</td>\n",
       "    </tr>\n",
       "    <tr>\n",
       "      <th>3</th>\n",
       "      <td>1371774</td>\n",
       "      <td>22.5</td>\n",
       "      <td>1</td>\n",
       "      <td>13</td>\n",
       "      <td>600</td>\n",
       "      <td>9993</td>\n",
       "      <td>9993</td>\n",
       "      <td>9993</td>\n",
       "      <td>7000</td>\n",
       "      <td>800000</td>\n",
       "      <td>...</td>\n",
       "      <td>1</td>\n",
       "      <td>0</td>\n",
       "      <td>1</td>\n",
       "      <td>33</td>\n",
       "      <td>62</td>\n",
       "      <td>4</td>\n",
       "      <td>1959</td>\n",
       "      <td>6</td>\n",
       "      <td>63</td>\n",
       "      <td>7000</td>\n",
       "    </tr>\n",
       "    <tr>\n",
       "      <th>4</th>\n",
       "      <td>1371775</td>\n",
       "      <td>3710.4</td>\n",
       "      <td>2</td>\n",
       "      <td>22</td>\n",
       "      <td>3600</td>\n",
       "      <td>9993</td>\n",
       "      <td>9997</td>\n",
       "      <td>9993</td>\n",
       "      <td>50500</td>\n",
       "      <td>9999999</td>\n",
       "      <td>...</td>\n",
       "      <td>1</td>\n",
       "      <td>0</td>\n",
       "      <td>1</td>\n",
       "      <td>297</td>\n",
       "      <td>50</td>\n",
       "      <td>3</td>\n",
       "      <td>1971</td>\n",
       "      <td>7</td>\n",
       "      <td>71</td>\n",
       "      <td>16000</td>\n",
       "    </tr>\n",
       "    <tr>\n",
       "      <th>7</th>\n",
       "      <td>1371776</td>\n",
       "      <td>448.2</td>\n",
       "      <td>1</td>\n",
       "      <td>12</td>\n",
       "      <td>1560</td>\n",
       "      <td>3000</td>\n",
       "      <td>9993</td>\n",
       "      <td>9993</td>\n",
       "      <td>155300</td>\n",
       "      <td>850000</td>\n",
       "      <td>...</td>\n",
       "      <td>1</td>\n",
       "      <td>1</td>\n",
       "      <td>2</td>\n",
       "      <td>10</td>\n",
       "      <td>93</td>\n",
       "      <td>1</td>\n",
       "      <td>1928</td>\n",
       "      <td>10</td>\n",
       "      <td>101</td>\n",
       "      <td>89800</td>\n",
       "    </tr>\n",
       "  </tbody>\n",
       "</table>\n",
       "<p>5 rows × 24 columns</p>\n",
       "</div>"
      ],
      "text/plain": [
       "    SERIAL  DENSITY  OWNERSHP  OWNERSHPD  COSTELEC  COSTGAS  COSTWATR  \\\n",
       "0  1371772    920.0         1         13      9990     9993       360   \n",
       "1  1371773   3640.9         2         22      1080     9993      1800   \n",
       "3  1371774     22.5         1         13       600     9993      9993   \n",
       "4  1371775   3710.4         2         22      3600     9993      9997   \n",
       "7  1371776    448.2         1         12      1560     3000      9993   \n",
       "\n",
       "   COSTFUEL  HHINCOME   VALUEH  ...  NFAMS  NCOUPLES  PERNUM  PERWT  AGE  \\\n",
       "0      9993     75000   700000  ...      1         0       1     14   52   \n",
       "1      9993     13600  9999999  ...      2         0       1     83   22   \n",
       "3      9993      7000   800000  ...      1         0       1     33   62   \n",
       "4      9993     50500  9999999  ...      1         0       1    297   50   \n",
       "7      9993    155300   850000  ...      1         1       2     10   93   \n",
       "\n",
       "   MARST  BIRTHYR  EDUC  EDUCD  INCTOT  \n",
       "0      6     1969     7     71   75000  \n",
       "1      6     1999    10    101    5600  \n",
       "3      4     1959     6     63    7000  \n",
       "4      3     1971     7     71   16000  \n",
       "7      1     1928    10    101   89800  \n",
       "\n",
       "[5 rows x 24 columns]"
      ]
     },
     "execution_count": 9,
     "metadata": {},
     "output_type": "execute_result"
    }
   ],
   "source": [
    "dwelling_detail.head(5)"
   ]
  },
  {
   "cell_type": "code",
   "execution_count": 10,
   "id": "ad8d6843",
   "metadata": {},
   "outputs": [
    {
     "data": {
      "text/html": [
       "<div>\n",
       "<style scoped>\n",
       "    .dataframe tbody tr th:only-of-type {\n",
       "        vertical-align: middle;\n",
       "    }\n",
       "\n",
       "    .dataframe tbody tr th {\n",
       "        vertical-align: top;\n",
       "    }\n",
       "\n",
       "    .dataframe thead th {\n",
       "        text-align: right;\n",
       "    }\n",
       "</style>\n",
       "<table border=\"1\" class=\"dataframe\">\n",
       "  <thead>\n",
       "    <tr style=\"text-align: right;\">\n",
       "      <th></th>\n",
       "      <th>DENSITY</th>\n",
       "      <th>OWNERSHP</th>\n",
       "      <th>HHINCOME</th>\n",
       "      <th>ROOMS</th>\n",
       "      <th>BEDROOMS</th>\n",
       "      <th>VEHICLES</th>\n",
       "      <th>NFAMS</th>\n",
       "      <th>NCOUPLES</th>\n",
       "      <th>AGE</th>\n",
       "      <th>MARST</th>\n",
       "      <th>EDUC</th>\n",
       "    </tr>\n",
       "  </thead>\n",
       "  <tbody>\n",
       "    <tr>\n",
       "      <th>0</th>\n",
       "      <td>920.0</td>\n",
       "      <td>1</td>\n",
       "      <td>75000</td>\n",
       "      <td>7</td>\n",
       "      <td>4</td>\n",
       "      <td>2</td>\n",
       "      <td>1</td>\n",
       "      <td>0</td>\n",
       "      <td>52</td>\n",
       "      <td>6</td>\n",
       "      <td>7</td>\n",
       "    </tr>\n",
       "    <tr>\n",
       "      <th>1</th>\n",
       "      <td>3640.9</td>\n",
       "      <td>2</td>\n",
       "      <td>13600</td>\n",
       "      <td>6</td>\n",
       "      <td>4</td>\n",
       "      <td>2</td>\n",
       "      <td>2</td>\n",
       "      <td>0</td>\n",
       "      <td>22</td>\n",
       "      <td>6</td>\n",
       "      <td>10</td>\n",
       "    </tr>\n",
       "    <tr>\n",
       "      <th>3</th>\n",
       "      <td>22.5</td>\n",
       "      <td>1</td>\n",
       "      <td>7000</td>\n",
       "      <td>5</td>\n",
       "      <td>4</td>\n",
       "      <td>2</td>\n",
       "      <td>1</td>\n",
       "      <td>0</td>\n",
       "      <td>62</td>\n",
       "      <td>4</td>\n",
       "      <td>6</td>\n",
       "    </tr>\n",
       "    <tr>\n",
       "      <th>4</th>\n",
       "      <td>3710.4</td>\n",
       "      <td>2</td>\n",
       "      <td>50500</td>\n",
       "      <td>4</td>\n",
       "      <td>3</td>\n",
       "      <td>2</td>\n",
       "      <td>1</td>\n",
       "      <td>0</td>\n",
       "      <td>50</td>\n",
       "      <td>3</td>\n",
       "      <td>7</td>\n",
       "    </tr>\n",
       "    <tr>\n",
       "      <th>7</th>\n",
       "      <td>448.2</td>\n",
       "      <td>1</td>\n",
       "      <td>155300</td>\n",
       "      <td>5</td>\n",
       "      <td>4</td>\n",
       "      <td>2</td>\n",
       "      <td>1</td>\n",
       "      <td>1</td>\n",
       "      <td>93</td>\n",
       "      <td>1</td>\n",
       "      <td>10</td>\n",
       "    </tr>\n",
       "  </tbody>\n",
       "</table>\n",
       "</div>"
      ],
      "text/plain": [
       "   DENSITY  OWNERSHP  HHINCOME  ROOMS  BEDROOMS  VEHICLES  NFAMS  NCOUPLES  \\\n",
       "0    920.0         1     75000      7         4         2      1         0   \n",
       "1   3640.9         2     13600      6         4         2      2         0   \n",
       "3     22.5         1      7000      5         4         2      1         0   \n",
       "4   3710.4         2     50500      4         3         2      1         0   \n",
       "7    448.2         1    155300      5         4         2      1         1   \n",
       "\n",
       "   AGE  MARST  EDUC  \n",
       "0   52      6     7  \n",
       "1   22      6    10  \n",
       "3   62      4     6  \n",
       "4   50      3     7  \n",
       "7   93      1    10  "
      ]
     },
     "execution_count": 10,
     "metadata": {},
     "output_type": "execute_result"
    }
   ],
   "source": [
    "#dropping the unnecessary columns\n",
    "required_columns = ['DENSITY', 'OWNERSHP', 'HHINCOME', 'ROOMS',\n",
    "                    'BEDROOMS', 'VEHICLES', 'NFAMS', 'NCOUPLES', 'AGE', 'MARST', 'EDUC']\n",
    "\n",
    "dwelling_detail_selected = dwelling_detail[required_columns]\n",
    "\n",
    "dwelling_detail_selected.head(5)"
   ]
  },
  {
   "cell_type": "code",
   "execution_count": 11,
   "id": "00f67687",
   "metadata": {},
   "outputs": [
    {
     "data": {
      "text/plain": [
       "(30802, 11)"
      ]
     },
     "execution_count": 11,
     "metadata": {},
     "output_type": "execute_result"
    }
   ],
   "source": [
    "dwelling_detail_selected.shape"
   ]
  },
  {
   "cell_type": "code",
   "execution_count": 12,
   "id": "33d4ff14",
   "metadata": {},
   "outputs": [
    {
     "name": "stdout",
     "output_type": "stream",
     "text": [
      "Maximum value of HHINCOME: 1674500\n",
      "Maximum value of max_rooms: 17\n",
      "Maximum value of max_BEDROOMS: 8\n",
      "Maximum value of max_VEHICLES: 9\n",
      "Maximum value of max_NFAMS: 13\n",
      "Maximum value of max_ncouples: 3\n",
      "Maximum value of max_density: 13284.6\n"
     ]
    }
   ],
   "source": [
    "max_hhincome = dwelling_detail_selected['HHINCOME'].max()\n",
    "max_rooms = dwelling_detail_selected['ROOMS'].max()\n",
    "max_BEDROOMS = dwelling_detail_selected['BEDROOMS'].max()\n",
    "max_VEHICLES = dwelling_detail_selected['VEHICLES'].max()\n",
    "max_NFAMS = dwelling_detail_selected['NFAMS'].max()\n",
    "max_ncouples = dwelling_detail_selected['NCOUPLES'].max()\n",
    "max_density = dwelling_detail_selected['DENSITY'].max()\n",
    "\n",
    "\n",
    "print(\"Maximum value of HHINCOME:\", max_hhincome)\n",
    "print(\"Maximum value of max_rooms:\", max_rooms)\n",
    "print(\"Maximum value of max_BEDROOMS:\", max_BEDROOMS)\n",
    "print(\"Maximum value of max_VEHICLES:\", max_VEHICLES)\n",
    "print(\"Maximum value of max_NFAMS:\", max_NFAMS)\n",
    "print(\"Maximum value of max_ncouples:\", max_ncouples)\n",
    "print(\"Maximum value of max_density:\", max_density)"
   ]
  },
  {
   "cell_type": "code",
   "execution_count": 13,
   "id": "4c9b102a",
   "metadata": {
    "scrolled": true
   },
   "outputs": [
    {
     "name": "stdout",
     "output_type": "stream",
     "text": [
      "2    10918\n",
      "0     9263\n",
      "1     8816\n",
      "3     1805\n",
      "Name: HHINCOME, dtype: int64\n",
      "0    13024\n",
      "2     8761\n",
      "1     6766\n",
      "3     2251\n",
      "Name: DENSITY, dtype: int64\n"
     ]
    },
    {
     "name": "stderr",
     "output_type": "stream",
     "text": [
      "/var/folders/_w/ydn_520j72v6hfgc1zdhcqp40000gn/T/ipykernel_1119/1221001112.py:1: SettingWithCopyWarning: \n",
      "A value is trying to be set on a copy of a slice from a DataFrame.\n",
      "Try using .loc[row_indexer,col_indexer] = value instead\n",
      "\n",
      "See the caveats in the documentation: https://pandas.pydata.org/pandas-docs/stable/user_guide/indexing.html#returning-a-view-versus-a-copy\n",
      "  dwelling_detail_selected['HHINCOME'] = [0 if value >= -7100 and value <= 50000 else\n",
      "/var/folders/_w/ydn_520j72v6hfgc1zdhcqp40000gn/T/ipykernel_1119/1221001112.py:15: SettingWithCopyWarning: \n",
      "A value is trying to be set on a copy of a slice from a DataFrame.\n",
      "Try using .loc[row_indexer,col_indexer] = value instead\n",
      "\n",
      "See the caveats in the documentation: https://pandas.pydata.org/pandas-docs/stable/user_guide/indexing.html#returning-a-view-versus-a-copy\n",
      "  dwelling_detail_selected['MARRIED'] = (dwelling_detail_selected['MARST'] <= 2).astype(int)\n",
      "/var/folders/_w/ydn_520j72v6hfgc1zdhcqp40000gn/T/ipykernel_1119/1221001112.py:16: SettingWithCopyWarning: \n",
      "A value is trying to be set on a copy of a slice from a DataFrame.\n",
      "Try using .loc[row_indexer,col_indexer] = value instead\n",
      "\n",
      "See the caveats in the documentation: https://pandas.pydata.org/pandas-docs/stable/user_guide/indexing.html#returning-a-view-versus-a-copy\n",
      "  dwelling_detail_selected['DIVORCED'] = dwelling_detail_selected['MARST'].between(2, 5).astype(int)\n",
      "/var/folders/_w/ydn_520j72v6hfgc1zdhcqp40000gn/T/ipykernel_1119/1221001112.py:17: SettingWithCopyWarning: \n",
      "A value is trying to be set on a copy of a slice from a DataFrame.\n",
      "Try using .loc[row_indexer,col_indexer] = value instead\n",
      "\n",
      "See the caveats in the documentation: https://pandas.pydata.org/pandas-docs/stable/user_guide/indexing.html#returning-a-view-versus-a-copy\n",
      "  dwelling_detail_selected['UNMARRIED'] = (dwelling_detail_selected['MARST'] > 4).astype(int)\n",
      "/var/folders/_w/ydn_520j72v6hfgc1zdhcqp40000gn/T/ipykernel_1119/1221001112.py:20: SettingWithCopyWarning: \n",
      "A value is trying to be set on a copy of a slice from a DataFrame.\n",
      "Try using .loc[row_indexer,col_indexer] = value instead\n",
      "\n",
      "See the caveats in the documentation: https://pandas.pydata.org/pandas-docs/stable/user_guide/indexing.html#returning-a-view-versus-a-copy\n",
      "  dwelling_detail_selected['EDUC_SCHOOL'] = (dwelling_detail_selected['EDUC'] <= 6).astype(int)\n",
      "/var/folders/_w/ydn_520j72v6hfgc1zdhcqp40000gn/T/ipykernel_1119/1221001112.py:21: SettingWithCopyWarning: \n",
      "A value is trying to be set on a copy of a slice from a DataFrame.\n",
      "Try using .loc[row_indexer,col_indexer] = value instead\n",
      "\n",
      "See the caveats in the documentation: https://pandas.pydata.org/pandas-docs/stable/user_guide/indexing.html#returning-a-view-versus-a-copy\n",
      "  dwelling_detail_selected['EDUC_CLG'] = (dwelling_detail_selected['EDUC'] >6).astype(int)\n",
      "/var/folders/_w/ydn_520j72v6hfgc1zdhcqp40000gn/T/ipykernel_1119/1221001112.py:23: SettingWithCopyWarning: \n",
      "A value is trying to be set on a copy of a slice from a DataFrame.\n",
      "Try using .loc[row_indexer,col_indexer] = value instead\n",
      "\n",
      "See the caveats in the documentation: https://pandas.pydata.org/pandas-docs/stable/user_guide/indexing.html#returning-a-view-versus-a-copy\n",
      "  dwelling_detail_selected['DENSITY'] = [0 if value >= 0 and value <= 1000 else\n"
     ]
    }
   ],
   "source": [
    "dwelling_detail_selected['HHINCOME'] = [0 if value >= -7100 and value <= 50000 else\n",
    "                                             (1 if value > 50000 and value <= 100000 else\n",
    "                                              (2 if value > 100000 and value <= 300000 else 3))\n",
    "                                             for value in dwelling_detail_selected['HHINCOME']]\n",
    "print(dwelling_detail_selected['HHINCOME'].value_counts())\n",
    "#youth_data['alcflag'].value_counts()\n",
    "\n",
    "\n",
    "# dwelling_detail_selected['VEHICLES'] = [0 if value == 9 else\n",
    "#                                         (1 if value > 0 and value <= 3 else \n",
    "#                                          (2 if value > 4 and value <= 7 else 3))\n",
    "#                                         for value in dwelling_detail_selected['VEHICLES']]\n",
    "# print(dwelling_detail_selected['VEHICLES'].value_counts())\n",
    "\n",
    "dwelling_detail_selected['MARRIED'] = (dwelling_detail_selected['MARST'] <= 2).astype(int)\n",
    "dwelling_detail_selected['DIVORCED'] = dwelling_detail_selected['MARST'].between(2, 5).astype(int)\n",
    "dwelling_detail_selected['UNMARRIED'] = (dwelling_detail_selected['MARST'] > 4).astype(int)\n",
    "\n",
    "\n",
    "dwelling_detail_selected['EDUC_SCHOOL'] = (dwelling_detail_selected['EDUC'] <= 6).astype(int)\n",
    "dwelling_detail_selected['EDUC_CLG'] = (dwelling_detail_selected['EDUC'] >6).astype(int)\n",
    "\n",
    "dwelling_detail_selected['DENSITY'] = [0 if value >= 0 and value <= 1000 else\n",
    "                                             (1 if value >1000 and value <= 3000 else\n",
    "                                              (2 if value >3000 and value <= 7000 else 3))\n",
    "                                             for value in dwelling_detail_selected['DENSITY']]\n",
    "print(dwelling_detail_selected['DENSITY'].value_counts())\n",
    "\n"
   ]
  },
  {
   "cell_type": "code",
   "execution_count": 14,
   "id": "c0de7e0e",
   "metadata": {},
   "outputs": [
    {
     "data": {
      "text/html": [
       "<div>\n",
       "<style scoped>\n",
       "    .dataframe tbody tr th:only-of-type {\n",
       "        vertical-align: middle;\n",
       "    }\n",
       "\n",
       "    .dataframe tbody tr th {\n",
       "        vertical-align: top;\n",
       "    }\n",
       "\n",
       "    .dataframe thead th {\n",
       "        text-align: right;\n",
       "    }\n",
       "</style>\n",
       "<table border=\"1\" class=\"dataframe\">\n",
       "  <thead>\n",
       "    <tr style=\"text-align: right;\">\n",
       "      <th></th>\n",
       "      <th>DENSITY</th>\n",
       "      <th>OWNERSHP</th>\n",
       "      <th>HHINCOME</th>\n",
       "      <th>ROOMS</th>\n",
       "      <th>BEDROOMS</th>\n",
       "      <th>VEHICLES</th>\n",
       "      <th>NFAMS</th>\n",
       "      <th>NCOUPLES</th>\n",
       "      <th>AGE</th>\n",
       "      <th>MARST</th>\n",
       "      <th>EDUC</th>\n",
       "      <th>MARRIED</th>\n",
       "      <th>DIVORCED</th>\n",
       "      <th>UNMARRIED</th>\n",
       "      <th>EDUC_SCHOOL</th>\n",
       "      <th>EDUC_CLG</th>\n",
       "    </tr>\n",
       "  </thead>\n",
       "  <tbody>\n",
       "    <tr>\n",
       "      <th>0</th>\n",
       "      <td>0</td>\n",
       "      <td>1</td>\n",
       "      <td>1</td>\n",
       "      <td>7</td>\n",
       "      <td>4</td>\n",
       "      <td>2</td>\n",
       "      <td>1</td>\n",
       "      <td>0</td>\n",
       "      <td>52</td>\n",
       "      <td>6</td>\n",
       "      <td>7</td>\n",
       "      <td>0</td>\n",
       "      <td>0</td>\n",
       "      <td>1</td>\n",
       "      <td>0</td>\n",
       "      <td>1</td>\n",
       "    </tr>\n",
       "    <tr>\n",
       "      <th>1</th>\n",
       "      <td>2</td>\n",
       "      <td>2</td>\n",
       "      <td>0</td>\n",
       "      <td>6</td>\n",
       "      <td>4</td>\n",
       "      <td>2</td>\n",
       "      <td>2</td>\n",
       "      <td>0</td>\n",
       "      <td>22</td>\n",
       "      <td>6</td>\n",
       "      <td>10</td>\n",
       "      <td>0</td>\n",
       "      <td>0</td>\n",
       "      <td>1</td>\n",
       "      <td>0</td>\n",
       "      <td>1</td>\n",
       "    </tr>\n",
       "    <tr>\n",
       "      <th>3</th>\n",
       "      <td>0</td>\n",
       "      <td>1</td>\n",
       "      <td>0</td>\n",
       "      <td>5</td>\n",
       "      <td>4</td>\n",
       "      <td>2</td>\n",
       "      <td>1</td>\n",
       "      <td>0</td>\n",
       "      <td>62</td>\n",
       "      <td>4</td>\n",
       "      <td>6</td>\n",
       "      <td>0</td>\n",
       "      <td>1</td>\n",
       "      <td>0</td>\n",
       "      <td>1</td>\n",
       "      <td>0</td>\n",
       "    </tr>\n",
       "    <tr>\n",
       "      <th>4</th>\n",
       "      <td>2</td>\n",
       "      <td>2</td>\n",
       "      <td>1</td>\n",
       "      <td>4</td>\n",
       "      <td>3</td>\n",
       "      <td>2</td>\n",
       "      <td>1</td>\n",
       "      <td>0</td>\n",
       "      <td>50</td>\n",
       "      <td>3</td>\n",
       "      <td>7</td>\n",
       "      <td>0</td>\n",
       "      <td>1</td>\n",
       "      <td>0</td>\n",
       "      <td>0</td>\n",
       "      <td>1</td>\n",
       "    </tr>\n",
       "    <tr>\n",
       "      <th>7</th>\n",
       "      <td>0</td>\n",
       "      <td>1</td>\n",
       "      <td>2</td>\n",
       "      <td>5</td>\n",
       "      <td>4</td>\n",
       "      <td>2</td>\n",
       "      <td>1</td>\n",
       "      <td>1</td>\n",
       "      <td>93</td>\n",
       "      <td>1</td>\n",
       "      <td>10</td>\n",
       "      <td>1</td>\n",
       "      <td>0</td>\n",
       "      <td>0</td>\n",
       "      <td>0</td>\n",
       "      <td>1</td>\n",
       "    </tr>\n",
       "  </tbody>\n",
       "</table>\n",
       "</div>"
      ],
      "text/plain": [
       "   DENSITY  OWNERSHP  HHINCOME  ROOMS  BEDROOMS  VEHICLES  NFAMS  NCOUPLES  \\\n",
       "0        0         1         1      7         4         2      1         0   \n",
       "1        2         2         0      6         4         2      2         0   \n",
       "3        0         1         0      5         4         2      1         0   \n",
       "4        2         2         1      4         3         2      1         0   \n",
       "7        0         1         2      5         4         2      1         1   \n",
       "\n",
       "   AGE  MARST  EDUC  MARRIED  DIVORCED  UNMARRIED  EDUC_SCHOOL  EDUC_CLG  \n",
       "0   52      6     7        0         0          1            0         1  \n",
       "1   22      6    10        0         0          1            0         1  \n",
       "3   62      4     6        0         1          0            1         0  \n",
       "4   50      3     7        0         1          0            0         1  \n",
       "7   93      1    10        1         0          0            0         1  "
      ]
     },
     "execution_count": 14,
     "metadata": {},
     "output_type": "execute_result"
    }
   ],
   "source": [
    "dwelling_detail_selected.head(5)"
   ]
  },
  {
   "cell_type": "code",
   "execution_count": 15,
   "id": "8c071bf2",
   "metadata": {},
   "outputs": [
    {
     "data": {
      "text/plain": [
       "(30802, 16)"
      ]
     },
     "execution_count": 15,
     "metadata": {},
     "output_type": "execute_result"
    }
   ],
   "source": [
    "dwelling_detail_selected.shape"
   ]
  },
  {
   "cell_type": "code",
   "execution_count": 16,
   "id": "a4701dbe",
   "metadata": {},
   "outputs": [
    {
     "data": {
      "text/plain": [
       "Index(['DENSITY', 'OWNERSHP', 'HHINCOME', 'ROOMS', 'BEDROOMS', 'VEHICLES',\n",
       "       'NFAMS', 'NCOUPLES', 'AGE', 'MARST', 'EDUC', 'MARRIED', 'DIVORCED',\n",
       "       'UNMARRIED', 'EDUC_SCHOOL', 'EDUC_CLG'],\n",
       "      dtype='object')"
      ]
     },
     "execution_count": 16,
     "metadata": {},
     "output_type": "execute_result"
    }
   ],
   "source": [
    "dwelling_detail_selected.columns"
   ]
  },
  {
   "cell_type": "markdown",
   "id": "c12e4913",
   "metadata": {},
   "source": [
    "will be creating subset of columns for linear analysis\n",
    "For Linear model we will be considering "
   ]
  },
  {
   "cell_type": "code",
   "execution_count": 17,
   "id": "af9f5d2d",
   "metadata": {},
   "outputs": [
    {
     "data": {
      "text/html": [
       "<div>\n",
       "<style scoped>\n",
       "    .dataframe tbody tr th:only-of-type {\n",
       "        vertical-align: middle;\n",
       "    }\n",
       "\n",
       "    .dataframe tbody tr th {\n",
       "        vertical-align: top;\n",
       "    }\n",
       "\n",
       "    .dataframe thead th {\n",
       "        text-align: right;\n",
       "    }\n",
       "</style>\n",
       "<table border=\"1\" class=\"dataframe\">\n",
       "  <thead>\n",
       "    <tr style=\"text-align: right;\">\n",
       "      <th></th>\n",
       "      <th>OWNERSHP</th>\n",
       "      <th>HHINCOME</th>\n",
       "      <th>DENSITY</th>\n",
       "      <th>BEDROOMS</th>\n",
       "      <th>NFAMS</th>\n",
       "      <th>AGE</th>\n",
       "      <th>MARRIED</th>\n",
       "      <th>EDUC_CLG</th>\n",
       "    </tr>\n",
       "  </thead>\n",
       "  <tbody>\n",
       "    <tr>\n",
       "      <th>0</th>\n",
       "      <td>1</td>\n",
       "      <td>1</td>\n",
       "      <td>0</td>\n",
       "      <td>4</td>\n",
       "      <td>1</td>\n",
       "      <td>52</td>\n",
       "      <td>0</td>\n",
       "      <td>1</td>\n",
       "    </tr>\n",
       "    <tr>\n",
       "      <th>1</th>\n",
       "      <td>2</td>\n",
       "      <td>0</td>\n",
       "      <td>2</td>\n",
       "      <td>4</td>\n",
       "      <td>2</td>\n",
       "      <td>22</td>\n",
       "      <td>0</td>\n",
       "      <td>1</td>\n",
       "    </tr>\n",
       "    <tr>\n",
       "      <th>3</th>\n",
       "      <td>1</td>\n",
       "      <td>0</td>\n",
       "      <td>0</td>\n",
       "      <td>4</td>\n",
       "      <td>1</td>\n",
       "      <td>62</td>\n",
       "      <td>0</td>\n",
       "      <td>0</td>\n",
       "    </tr>\n",
       "    <tr>\n",
       "      <th>4</th>\n",
       "      <td>2</td>\n",
       "      <td>1</td>\n",
       "      <td>2</td>\n",
       "      <td>3</td>\n",
       "      <td>1</td>\n",
       "      <td>50</td>\n",
       "      <td>0</td>\n",
       "      <td>1</td>\n",
       "    </tr>\n",
       "    <tr>\n",
       "      <th>7</th>\n",
       "      <td>1</td>\n",
       "      <td>2</td>\n",
       "      <td>0</td>\n",
       "      <td>4</td>\n",
       "      <td>1</td>\n",
       "      <td>93</td>\n",
       "      <td>1</td>\n",
       "      <td>1</td>\n",
       "    </tr>\n",
       "  </tbody>\n",
       "</table>\n",
       "</div>"
      ],
      "text/plain": [
       "   OWNERSHP  HHINCOME  DENSITY  BEDROOMS  NFAMS  AGE  MARRIED  EDUC_CLG\n",
       "0         1         1        0         4      1   52        0         1\n",
       "1         2         0        2         4      2   22        0         1\n",
       "3         1         0        0         4      1   62        0         0\n",
       "4         2         1        2         3      1   50        0         1\n",
       "7         1         2        0         4      1   93        1         1"
      ]
     },
     "execution_count": 17,
     "metadata": {},
     "output_type": "execute_result"
    }
   ],
   "source": [
    "required_columns = ['OWNERSHP', 'HHINCOME', 'DENSITY',\n",
    "                    'BEDROOMS', 'NFAMS', 'AGE', 'MARRIED', 'EDUC_CLG']\n",
    "\n",
    "dwelling_detail_linear = dwelling_detail_selected[required_columns]\n",
    "\n",
    "dwelling_detail_linear.head(5)"
   ]
  },
  {
   "cell_type": "code",
   "execution_count": 18,
   "id": "9f4d53d2",
   "metadata": {},
   "outputs": [
    {
     "data": {
      "text/plain": [
       "(30802, 8)"
      ]
     },
     "execution_count": 18,
     "metadata": {},
     "output_type": "execute_result"
    }
   ],
   "source": [
    "dwelling_detail_linear.shape"
   ]
  },
  {
   "cell_type": "code",
   "execution_count": 19,
   "id": "962b4384",
   "metadata": {},
   "outputs": [
    {
     "data": {
      "text/plain": [
       "Index(['OWNERSHP', 'HHINCOME', 'DENSITY', 'BEDROOMS', 'NFAMS', 'AGE',\n",
       "       'MARRIED', 'EDUC_CLG'],\n",
       "      dtype='object')"
      ]
     },
     "execution_count": 19,
     "metadata": {},
     "output_type": "execute_result"
    }
   ],
   "source": [
    "dwelling_detail_linear.columns"
   ]
  },
  {
   "cell_type": "markdown",
   "id": "89e24e3e",
   "metadata": {},
   "source": [
    "this is our SVC linear model"
   ]
  },
  {
   "cell_type": "code",
   "execution_count": 20,
   "id": "6942e96f",
   "metadata": {},
   "outputs": [
    {
     "data": {
      "text/html": [
       "<style>#sk-container-id-1 {color: black;}#sk-container-id-1 pre{padding: 0;}#sk-container-id-1 div.sk-toggleable {background-color: white;}#sk-container-id-1 label.sk-toggleable__label {cursor: pointer;display: block;width: 100%;margin-bottom: 0;padding: 0.3em;box-sizing: border-box;text-align: center;}#sk-container-id-1 label.sk-toggleable__label-arrow:before {content: \"▸\";float: left;margin-right: 0.25em;color: #696969;}#sk-container-id-1 label.sk-toggleable__label-arrow:hover:before {color: black;}#sk-container-id-1 div.sk-estimator:hover label.sk-toggleable__label-arrow:before {color: black;}#sk-container-id-1 div.sk-toggleable__content {max-height: 0;max-width: 0;overflow: hidden;text-align: left;background-color: #f0f8ff;}#sk-container-id-1 div.sk-toggleable__content pre {margin: 0.2em;color: black;border-radius: 0.25em;background-color: #f0f8ff;}#sk-container-id-1 input.sk-toggleable__control:checked~div.sk-toggleable__content {max-height: 200px;max-width: 100%;overflow: auto;}#sk-container-id-1 input.sk-toggleable__control:checked~label.sk-toggleable__label-arrow:before {content: \"▾\";}#sk-container-id-1 div.sk-estimator input.sk-toggleable__control:checked~label.sk-toggleable__label {background-color: #d4ebff;}#sk-container-id-1 div.sk-label input.sk-toggleable__control:checked~label.sk-toggleable__label {background-color: #d4ebff;}#sk-container-id-1 input.sk-hidden--visually {border: 0;clip: rect(1px 1px 1px 1px);clip: rect(1px, 1px, 1px, 1px);height: 1px;margin: -1px;overflow: hidden;padding: 0;position: absolute;width: 1px;}#sk-container-id-1 div.sk-estimator {font-family: monospace;background-color: #f0f8ff;border: 1px dotted black;border-radius: 0.25em;box-sizing: border-box;margin-bottom: 0.5em;}#sk-container-id-1 div.sk-estimator:hover {background-color: #d4ebff;}#sk-container-id-1 div.sk-parallel-item::after {content: \"\";width: 100%;border-bottom: 1px solid gray;flex-grow: 1;}#sk-container-id-1 div.sk-label:hover label.sk-toggleable__label {background-color: #d4ebff;}#sk-container-id-1 div.sk-serial::before {content: \"\";position: absolute;border-left: 1px solid gray;box-sizing: border-box;top: 0;bottom: 0;left: 50%;z-index: 0;}#sk-container-id-1 div.sk-serial {display: flex;flex-direction: column;align-items: center;background-color: white;padding-right: 0.2em;padding-left: 0.2em;position: relative;}#sk-container-id-1 div.sk-item {position: relative;z-index: 1;}#sk-container-id-1 div.sk-parallel {display: flex;align-items: stretch;justify-content: center;background-color: white;position: relative;}#sk-container-id-1 div.sk-item::before, #sk-container-id-1 div.sk-parallel-item::before {content: \"\";position: absolute;border-left: 1px solid gray;box-sizing: border-box;top: 0;bottom: 0;left: 50%;z-index: -1;}#sk-container-id-1 div.sk-parallel-item {display: flex;flex-direction: column;z-index: 1;position: relative;background-color: white;}#sk-container-id-1 div.sk-parallel-item:first-child::after {align-self: flex-end;width: 50%;}#sk-container-id-1 div.sk-parallel-item:last-child::after {align-self: flex-start;width: 50%;}#sk-container-id-1 div.sk-parallel-item:only-child::after {width: 0;}#sk-container-id-1 div.sk-dashed-wrapped {border: 1px dashed gray;margin: 0 0.4em 0.5em 0.4em;box-sizing: border-box;padding-bottom: 0.4em;background-color: white;}#sk-container-id-1 div.sk-label label {font-family: monospace;font-weight: bold;display: inline-block;line-height: 1.2em;}#sk-container-id-1 div.sk-label-container {text-align: center;}#sk-container-id-1 div.sk-container {/* jupyter's `normalize.less` sets `[hidden] { display: none; }` but bootstrap.min.css set `[hidden] { display: none !important; }` so we also need the `!important` here to be able to override the default hidden behavior on the sphinx rendered scikit-learn.org. See: https://github.com/scikit-learn/scikit-learn/issues/21755 */display: inline-block !important;position: relative;}#sk-container-id-1 div.sk-text-repr-fallback {display: none;}</style><div id=\"sk-container-id-1\" class=\"sk-top-container\"><div class=\"sk-text-repr-fallback\"><pre>SVC(C=0.4, kernel=&#x27;linear&#x27;)</pre><b>In a Jupyter environment, please rerun this cell to show the HTML representation or trust the notebook. <br />On GitHub, the HTML representation is unable to render, please try loading this page with nbviewer.org.</b></div><div class=\"sk-container\" hidden><div class=\"sk-item\"><div class=\"sk-estimator sk-toggleable\"><input class=\"sk-toggleable__control sk-hidden--visually\" id=\"sk-estimator-id-1\" type=\"checkbox\" checked><label for=\"sk-estimator-id-1\" class=\"sk-toggleable__label sk-toggleable__label-arrow\">SVC</label><div class=\"sk-toggleable__content\"><pre>SVC(C=0.4, kernel=&#x27;linear&#x27;)</pre></div></div></div></div></div>"
      ],
      "text/plain": [
       "SVC(C=0.4, kernel='linear')"
      ]
     },
     "execution_count": 20,
     "metadata": {},
     "output_type": "execute_result"
    }
   ],
   "source": [
    "X = dwelling_detail_linear.drop('OWNERSHP', axis=1)\n",
    "y = dwelling_detail_linear['OWNERSHP']\n",
    "X_train, X_test, y_train, y_test = train_test_split(X, y, test_size=0.2, random_state=42)\n",
    "\n",
    "svm_linear = SVC(kernel=\"linear\", C=0.4)\n",
    "svm_linear.fit(X_train, y_train)"
   ]
  },
  {
   "cell_type": "code",
   "execution_count": 21,
   "id": "4636cd6e",
   "metadata": {},
   "outputs": [
    {
     "name": "stdout",
     "output_type": "stream",
     "text": [
      "Accuracy of svm linear model : 0.8294108099334524\n"
     ]
    }
   ],
   "source": [
    "ypredict_linear = svm_linear.predict(X_test)\n",
    "test_accuracy = accuracy_score(y_test, ypredict_linear)\n",
    "print(\"Accuracy of svm linear model :\", test_accuracy)"
   ]
  },
  {
   "cell_type": "code",
   "execution_count": 22,
   "id": "cb688c48",
   "metadata": {},
   "outputs": [
    {
     "data": {
      "text/plain": [
       "{'C': 1}"
      ]
     },
     "execution_count": 22,
     "metadata": {},
     "output_type": "execute_result"
    }
   ],
   "source": [
    "kfold_linear = skm.KFold(3, \n",
    "                  random_state=0,\n",
    "                  shuffle=True)\n",
    "grid = skm.GridSearchCV(svm_linear,\n",
    "                        {'C':[0.1,0.5,1,3,5,6]},\n",
    "                        refit=True,\n",
    "                        cv=kfold_linear,\n",
    "                        scoring='accuracy');\n",
    "grid.fit(X_train, y_train)\n",
    "grid.best_params_"
   ]
  },
  {
   "cell_type": "code",
   "execution_count": 23,
   "id": "472ecdd7",
   "metadata": {},
   "outputs": [
    {
     "name": "stdout",
     "output_type": "stream",
     "text": [
      "Accuracy of svm linear best model : 0.8294108099334524\n",
      "   Features     Score\n",
      "2  BEDROOMS  0.744341\n",
      "3     NFAMS  0.418559\n",
      "5   MARRIED  0.358405\n",
      "0  HHINCOME  0.356435\n",
      "1   DENSITY  0.201169\n",
      "6  EDUC_CLG  0.170958\n",
      "4       AGE  0.030994\n"
     ]
    }
   ],
   "source": [
    "svm_linear_best = SVC(kernel=\"linear\", C=1)\n",
    "svm_linear_best.fit(X_train, y_train)\n",
    "\n",
    "ypredict_linear_best = svm_linear_best.predict(X_test)\n",
    "test_accuracy_linear_best = accuracy_score(y_test, ypredict_linear_best)\n",
    "print(\"Accuracy of svm linear best model :\", test_accuracy_linear_best)\n",
    "\n",
    "\n",
    "coeff = svm_linear_best.coef_\n",
    "importance_scores = abs(coeff)\n",
    "df_importance_feature = pd.DataFrame({'Features': X_train.columns, 'Score': importance_scores[0]})\n",
    "df_importance_feature = df_importance_feature.sort_values(by='Score', ascending=False)\n",
    "print(df_importance_feature)"
   ]
  },
  {
   "cell_type": "code",
   "execution_count": 24,
   "id": "f228228f",
   "metadata": {},
   "outputs": [
    {
     "name": "stderr",
     "output_type": "stream",
     "text": [
      "/Users/nidhitrivedi/anaconda3/lib/python3.11/site-packages/sklearn/base.py:464: UserWarning: X does not have valid feature names, but SVC was fitted with feature names\n",
      "  warnings.warn(\n"
     ]
    },
    {
     "data": {
      "image/png": "[encoded data removed]",
      "text/plain": [
       "<Figure size 800x800 with 1 Axes>"
      ]
     },
     "metadata": {},
     "output_type": "display_data"
    }
   ],
   "source": [
    "\n",
    "# svm_linear_best = svm_linear_best.fit(X_train[['AGE', 'NFAMS']], y_train)\n",
    "\n",
    "# fig, ax = plt.subplots(figsize=(5, 5))\n",
    "# plot_svm(X_train[['AGE', 'NFAMS']], y_train, svm_linear_best, ax=ax)\n",
    "# plt.xlabel('AGE')\n",
    "# plt.ylabel('NFAMS')\n",
    "# plt.title('SVM Decision Boundary between Two Most Important Features')\n",
    "# plt.show()\n",
    "\n",
    "\n",
    "BEDROOMS = X_train.columns.get_loc('BEDROOMS')\n",
    "NFAMS = X_train.columns.get_loc('NFAMS')\n",
    "fig, ax = subplots(figsize=(8,8))\n",
    "plot_svm(X_train,y_train,svm_linear_best,features=(BEDROOMS, NFAMS),ax=ax)\n",
    "plt.xlabel('BEDROOMS')\n",
    "plt.ylabel('NFAMS')\n",
    "plt.title('SVM Decision Boundary between Two Most Important Features')\n",
    "plt.show()"
   ]
  },
  {
   "cell_type": "markdown",
   "id": "4d67fc27",
   "metadata": {},
   "source": [
    "This is radial model"
   ]
  },
  {
   "cell_type": "code",
   "execution_count": 25,
   "id": "ba2d3fc8",
   "metadata": {},
   "outputs": [
    {
     "data": {
      "text/html": [
       "<style>#sk-container-id-2 {color: black;}#sk-container-id-2 pre{padding: 0;}#sk-container-id-2 div.sk-toggleable {background-color: white;}#sk-container-id-2 label.sk-toggleable__label {cursor: pointer;display: block;width: 100%;margin-bottom: 0;padding: 0.3em;box-sizing: border-box;text-align: center;}#sk-container-id-2 label.sk-toggleable__label-arrow:before {content: \"▸\";float: left;margin-right: 0.25em;color: #696969;}#sk-container-id-2 label.sk-toggleable__label-arrow:hover:before {color: black;}#sk-container-id-2 div.sk-estimator:hover label.sk-toggleable__label-arrow:before {color: black;}#sk-container-id-2 div.sk-toggleable__content {max-height: 0;max-width: 0;overflow: hidden;text-align: left;background-color: #f0f8ff;}#sk-container-id-2 div.sk-toggleable__content pre {margin: 0.2em;color: black;border-radius: 0.25em;background-color: #f0f8ff;}#sk-container-id-2 input.sk-toggleable__control:checked~div.sk-toggleable__content {max-height: 200px;max-width: 100%;overflow: auto;}#sk-container-id-2 input.sk-toggleable__control:checked~label.sk-toggleable__label-arrow:before {content: \"▾\";}#sk-container-id-2 div.sk-estimator input.sk-toggleable__control:checked~label.sk-toggleable__label {background-color: #d4ebff;}#sk-container-id-2 div.sk-label input.sk-toggleable__control:checked~label.sk-toggleable__label {background-color: #d4ebff;}#sk-container-id-2 input.sk-hidden--visually {border: 0;clip: rect(1px 1px 1px 1px);clip: rect(1px, 1px, 1px, 1px);height: 1px;margin: -1px;overflow: hidden;padding: 0;position: absolute;width: 1px;}#sk-container-id-2 div.sk-estimator {font-family: monospace;background-color: #f0f8ff;border: 1px dotted black;border-radius: 0.25em;box-sizing: border-box;margin-bottom: 0.5em;}#sk-container-id-2 div.sk-estimator:hover {background-color: #d4ebff;}#sk-container-id-2 div.sk-parallel-item::after {content: \"\";width: 100%;border-bottom: 1px solid gray;flex-grow: 1;}#sk-container-id-2 div.sk-label:hover label.sk-toggleable__label {background-color: #d4ebff;}#sk-container-id-2 div.sk-serial::before {content: \"\";position: absolute;border-left: 1px solid gray;box-sizing: border-box;top: 0;bottom: 0;left: 50%;z-index: 0;}#sk-container-id-2 div.sk-serial {display: flex;flex-direction: column;align-items: center;background-color: white;padding-right: 0.2em;padding-left: 0.2em;position: relative;}#sk-container-id-2 div.sk-item {position: relative;z-index: 1;}#sk-container-id-2 div.sk-parallel {display: flex;align-items: stretch;justify-content: center;background-color: white;position: relative;}#sk-container-id-2 div.sk-item::before, #sk-container-id-2 div.sk-parallel-item::before {content: \"\";position: absolute;border-left: 1px solid gray;box-sizing: border-box;top: 0;bottom: 0;left: 50%;z-index: -1;}#sk-container-id-2 div.sk-parallel-item {display: flex;flex-direction: column;z-index: 1;position: relative;background-color: white;}#sk-container-id-2 div.sk-parallel-item:first-child::after {align-self: flex-end;width: 50%;}#sk-container-id-2 div.sk-parallel-item:last-child::after {align-self: flex-start;width: 50%;}#sk-container-id-2 div.sk-parallel-item:only-child::after {width: 0;}#sk-container-id-2 div.sk-dashed-wrapped {border: 1px dashed gray;margin: 0 0.4em 0.5em 0.4em;box-sizing: border-box;padding-bottom: 0.4em;background-color: white;}#sk-container-id-2 div.sk-label label {font-family: monospace;font-weight: bold;display: inline-block;line-height: 1.2em;}#sk-container-id-2 div.sk-label-container {text-align: center;}#sk-container-id-2 div.sk-container {/* jupyter's `normalize.less` sets `[hidden] { display: none; }` but bootstrap.min.css set `[hidden] { display: none !important; }` so we also need the `!important` here to be able to override the default hidden behavior on the sphinx rendered scikit-learn.org. See: https://github.com/scikit-learn/scikit-learn/issues/21755 */display: inline-block !important;position: relative;}#sk-container-id-2 div.sk-text-repr-fallback {display: none;}</style><div id=\"sk-container-id-2\" class=\"sk-top-container\"><div class=\"sk-text-repr-fallback\"><pre>SVC(C=0.5, gamma=2)</pre><b>In a Jupyter environment, please rerun this cell to show the HTML representation or trust the notebook. <br />On GitHub, the HTML representation is unable to render, please try loading this page with nbviewer.org.</b></div><div class=\"sk-container\" hidden><div class=\"sk-item\"><div class=\"sk-estimator sk-toggleable\"><input class=\"sk-toggleable__control sk-hidden--visually\" id=\"sk-estimator-id-2\" type=\"checkbox\" checked><label for=\"sk-estimator-id-2\" class=\"sk-toggleable__label sk-toggleable__label-arrow\">SVC</label><div class=\"sk-toggleable__content\"><pre>SVC(C=0.5, gamma=2)</pre></div></div></div></div></div>"
      ],
      "text/plain": [
       "SVC(C=0.5, gamma=2)"
      ]
     },
     "execution_count": 25,
     "metadata": {},
     "output_type": "execute_result"
    }
   ],
   "source": [
    "X = dwelling_detail_linear.drop('OWNERSHP', axis=1)\n",
    "y = dwelling_detail_linear['OWNERSHP']\n",
    "X_train, X_test, y_train, y_test = train_test_split(X, y, test_size=0.2, random_state=42)\n",
    "\n",
    "svm_rbf = SVC(kernel=\"rbf\", gamma=2, C=0.5)\n",
    "svm_rbf.fit(X_train, y_train)"
   ]
  },
  {
   "cell_type": "code",
   "execution_count": 26,
   "id": "936aa24b",
   "metadata": {},
   "outputs": [
    {
     "name": "stdout",
     "output_type": "stream",
     "text": [
      "Accuracy of radial model: 0.7841259535789644\n"
     ]
    }
   ],
   "source": [
    "ypredict_radial = svm_rbf.predict(X_test)\n",
    "test_accuracy = accuracy_score(y_test, ypredict_radial)\n",
    "print(\"Accuracy of radial model:\", test_accuracy)"
   ]
  },
  {
   "cell_type": "code",
   "execution_count": 27,
   "id": "c4a44d02",
   "metadata": {},
   "outputs": [
    {
     "data": {
      "text/plain": [
       "{'C': 1, 'gamma': 0.5}"
      ]
     },
     "execution_count": 27,
     "metadata": {},
     "output_type": "execute_result"
    }
   ],
   "source": [
    "kfold_radial = skm.KFold(5, \n",
    "                  random_state=0,\n",
    "                  shuffle=True)\n",
    "grid = skm.GridSearchCV(svm_rbf,\n",
    "                        {'C':[0.1,1,5,7,10],\n",
    "                         'gamma':[0.5,1,3,5]},\n",
    "                        refit=True,\n",
    "                        cv=kfold_radial,\n",
    "                        scoring='accuracy');\n",
    "grid.fit(X_train, y_train)\n",
    "grid.best_params_"
   ]
  },
  {
   "cell_type": "markdown",
   "id": "9bbbde73",
   "metadata": {},
   "source": [
    "The best param for this model is C = 1 and gamma = 0.5."
   ]
  },
  {
   "cell_type": "code",
   "execution_count": 28,
   "id": "6f1523bf",
   "metadata": {},
   "outputs": [
    {
     "name": "stdout",
     "output_type": "stream",
     "text": [
      "Accuracy of radial best model: 0.8279500081155656\n"
     ]
    }
   ],
   "source": [
    "svm_radial_best = SVC(kernel=\"rbf\", gamma=0.5, C=1)\n",
    "svm_radial_best.fit(X_train, y_train)\n",
    "ypredict_radial_best = svm_radial_best.predict(X_test)\n",
    "test_accuracy_radial_best = accuracy_score(y_test, ypredict_radial_best)\n",
    "print(\"Accuracy of radial best model:\", test_accuracy_radial_best)\n",
    "\n"
   ]
  },
  {
   "cell_type": "code",
   "execution_count": 29,
   "id": "f78c6ee9",
   "metadata": {},
   "outputs": [
    {
     "name": "stdout",
     "output_type": "stream",
     "text": [
      "   Features     Score\n",
      "2  BEDROOMS  0.115296\n",
      "4       AGE  0.092448\n",
      "0  HHINCOME  0.037904\n",
      "1   DENSITY  0.021996\n",
      "5   MARRIED  0.009659\n",
      "3     NFAMS  0.008482\n",
      "6  EDUC_CLG  0.006737\n"
     ]
    }
   ],
   "source": [
    "from sklearn.inspection import permutation_importance\n",
    "perm_importance = permutation_importance(svm_radial_best, X_train, y_train, n_repeats=1, random_state=42)\n",
    "importance_scores = perm_importance.importances_mean\n",
    "df_importance_feature = pd.DataFrame({'Features': X_train.columns, 'Score': importance_scores})\n",
    "df_importance_feature = df_importance_feature.sort_values(by='Score', ascending=False)\n",
    "print(df_importance_feature)\n"
   ]
  },
  {
   "cell_type": "code",
   "execution_count": 30,
   "id": "4e2635a2",
   "metadata": {},
   "outputs": [
    {
     "name": "stderr",
     "output_type": "stream",
     "text": [
      "/Users/nidhitrivedi/anaconda3/lib/python3.11/site-packages/sklearn/base.py:464: UserWarning: X does not have valid feature names, but SVC was fitted with feature names\n",
      "  warnings.warn(\n"
     ]
    },
    {
     "data": {
      "image/png": "[encoded data removed]",
      "text/plain": [
       "<Figure size 600x600 with 1 Axes>"
      ]
     },
     "metadata": {},
     "output_type": "display_data"
    }
   ],
   "source": [
    "\n",
    "\n",
    "# top_features = df_importance_feature.iloc[:2]['Features'].tolist()\n",
    "# svm_radial_best.fit(X_train[top_features], y_train)\n",
    "\n",
    "# fig, ax = plt.subplots(figsize=(5, 5))\n",
    "# plot_svm(X_train[top_features], y_train, svm_radial_best, ax=ax)\n",
    "# plt.xlabel(top_features[0])\n",
    "# plt.ylabel(top_features[1])\n",
    "# plt.title('SVM Decision Boundary between Two Most Important Features')\n",
    "# plt.show()\n",
    "\n",
    "\n",
    "BEDROOMS = X_train.columns.get_loc('BEDROOMS')\n",
    "AGE = X_train.columns.get_loc('AGE')\n",
    "fig, ax = subplots(figsize=(6,6))\n",
    "plot_svm(X_train,y_train,svm_radial_best,features=(BEDROOMS, AGE),ax=ax)"
   ]
  },
  {
   "cell_type": "markdown",
   "id": "bf2e3ff9",
   "metadata": {},
   "source": [
    "This is poly model"
   ]
  },
  {
   "cell_type": "code",
   "execution_count": 31,
   "id": "5daccfca",
   "metadata": {},
   "outputs": [],
   "source": [
    "X = dwelling_detail_selected.drop('OWNERSHP', axis=1)\n",
    "y = dwelling_detail_selected['OWNERSHP']\n",
    "X_train, X_test, y_train, y_test = train_test_split(X, y, test_size=0.2, random_state=42)"
   ]
  },
  {
   "cell_type": "code",
   "execution_count": 32,
   "id": "a7d549f7",
   "metadata": {},
   "outputs": [
    {
     "name": "stdout",
     "output_type": "stream",
     "text": [
      "Accuracy of polynomial model: 0.8289238759941568\n"
     ]
    }
   ],
   "source": [
    "svm_poly = SVC(kernel=\"poly\", degree=3, C=0.5)\n",
    "svm_poly.fit(X_train, y_train)\n",
    "ypredict_poly = svm_poly.predict(X_test)\n",
    "test_accuracy = accuracy_score(y_test, ypredict_poly)\n",
    "print(\"Accuracy of polynomial model:\", test_accuracy)\n",
    "\n",
    "\n"
   ]
  },
  {
   "cell_type": "code",
   "execution_count": 33,
   "id": "fb9e70ac",
   "metadata": {},
   "outputs": [
    {
     "data": {
      "text/plain": [
       "{'C': 3, 'degree': 2}"
      ]
     },
     "execution_count": 33,
     "metadata": {},
     "output_type": "execute_result"
    }
   ],
   "source": [
    "kfold_poly = skm.KFold(5, \n",
    "                  random_state=0,\n",
    "                  shuffle=True)\n",
    "grid = skm.GridSearchCV(svm_poly,\n",
    "                        {'C':[0.1,1,2,3],\n",
    "                         'degree':[2,3,4]},\n",
    "                        refit=True,\n",
    "                        cv=kfold_poly,\n",
    "                        scoring='accuracy');\n",
    "grid.fit(X_train, y_train)\n",
    "grid.best_params_"
   ]
  },
  {
   "cell_type": "code",
   "execution_count": 34,
   "id": "3b99111e",
   "metadata": {},
   "outputs": [
    {
     "name": "stdout",
     "output_type": "stream",
     "text": [
      "Accuracy of polynomial best model: 0.8318454796299302\n"
     ]
    }
   ],
   "source": [
    "svm_poly_best = SVC(kernel=\"poly\", degree=2, C=3)\n",
    "svm_poly_best.fit(X_train, y_train)\n",
    "ypredict_best_poly = svm_poly_best.predict(X_test)\n",
    "test_accuracy = accuracy_score(y_test, ypredict_best_poly)\n",
    "print(\"Accuracy of polynomial best model:\", test_accuracy)\n",
    "\n"
   ]
  },
  {
   "cell_type": "code",
   "execution_count": 35,
   "id": "af4351ce",
   "metadata": {},
   "outputs": [
    {
     "name": "stdout",
     "output_type": "stream",
     "text": [
      "       Features     Score\n",
      "7           AGE  0.045574\n",
      "3      BEDROOMS  0.041394\n",
      "2         ROOMS  0.011728\n",
      "1      HHINCOME  0.005398\n",
      "9          EDUC  0.003734\n",
      "0       DENSITY  0.003247\n",
      "4      VEHICLES  0.001786\n",
      "12    UNMARRIED  0.000690\n",
      "5         NFAMS  0.000487\n",
      "11     DIVORCED  0.000041\n",
      "14     EDUC_CLG  0.000000\n",
      "6      NCOUPLES -0.000243\n",
      "13  EDUC_SCHOOL -0.000649\n",
      "10      MARRIED -0.000974\n",
      "8         MARST -0.001217\n"
     ]
    }
   ],
   "source": [
    "perm_importance = permutation_importance(svm_poly_best, X_train, y_train, n_repeats=1, random_state=42)\n",
    "importance_scores = perm_importance.importances_mean\n",
    "df_importance_feature = pd.DataFrame({'Features': X_train.columns, 'Score': importance_scores})\n",
    "df_importance_feature = df_importance_feature.sort_values(by='Score', ascending=False)\n",
    "print(df_importance_feature)"
   ]
  },
  {
   "cell_type": "code",
   "execution_count": 36,
   "id": "4bf01d25",
   "metadata": {},
   "outputs": [
    {
     "name": "stderr",
     "output_type": "stream",
     "text": [
      "/Users/nidhitrivedi/anaconda3/lib/python3.11/site-packages/sklearn/base.py:464: UserWarning: X does not have valid feature names, but SVC was fitted with feature names\n",
      "  warnings.warn(\n"
     ]
    },
    {
     "data": {
      "image/png": "[encoded data removed]",
      "text/plain": [
       "<Figure size 600x600 with 1 Axes>"
      ]
     },
     "metadata": {},
     "output_type": "display_data"
    }
   ],
   "source": [
    "\n",
    "# top_features = df_importance_feature.iloc[:2]['Features'].tolist()\n",
    "# svm_poly_best.fit(X_train[top_features], y_train)\n",
    "\n",
    "# fig, ax = plt.subplots(figsize=(5, 5))\n",
    "# plot_svm(X_train[top_features], y_train, svm_poly_best, ax=ax)\n",
    "# plt.xlabel(top_features[0])\n",
    "# plt.ylabel(top_features[1])\n",
    "# plt.title('SVM Decision Boundary between Two Most Important Features')\n",
    "# plt.show()\n",
    "\n",
    "\n",
    "BEDROOMS = X_train.columns.get_loc('BEDROOMS')\n",
    "AGE = X_train.columns.get_loc('AGE')\n",
    "fig, ax = subplots(figsize=(6,6))\n",
    "plot_svm(X_train,y_train,svm_poly_best,features=(BEDROOMS, AGE),ax=ax)"
   ]
  },
  {
   "cell_type": "code",
   "execution_count": null,
   "id": "562593f7",
   "metadata": {},
   "outputs": [],
   "source": []
  },
  {
   "cell_type": "code",
   "execution_count": null,
   "id": "976bc25b",
   "metadata": {},
   "outputs": [],
   "source": []
  },
  {
   "cell_type": "code",
   "execution_count": null,
   "id": "8c7e7a0f",
   "metadata": {},
   "outputs": [],
   "source": []
  }
 ],
 "metadata": {
  "kernelspec": {
   "display_name": "Python 3 (ipykernel)",
   "language": "python",
   "name": "python3"
  },
  "language_info": {
   "codemirror_mode": {
    "name": "ipython",
    "version": 3
   },
   "file_extension": ".py",
   "mimetype": "text/x-python",
   "name": "python",
   "nbconvert_exporter": "python",
   "pygments_lexer": "ipython3",
   "version": "3.11.4"
  }
 },
 "nbformat": 4,
 "nbformat_minor": 5
}
